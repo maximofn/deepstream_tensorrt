{
 "cells": [
  {
   "cell_type": "markdown",
   "id": "510b376c",
   "metadata": {},
   "source": [
    "# Open Video"
   ]
  },
  {
   "cell_type": "markdown",
   "id": "73af7b92",
   "metadata": {},
   "source": [
    "## Import libaries"
   ]
  },
  {
   "cell_type": "code",
   "execution_count": 1,
   "id": "ca5dd3d2",
   "metadata": {},
   "outputs": [],
   "source": [
    "import argparse\n",
    "import sys\n",
    "sys.path.append('/opt/nvidia/deepstream/deepstream-6.1/deepstream_python_apps/apps/')\n",
    "\n",
    "# Gstreamer\n",
    "import gi # PyGObject is a Python package that enables links to librarys based on GObjects like GTK , GStreamer , WebKitGTK , GLib , GIO and more.\n",
    "gi.require_version('Gst', '1.0') # GStreamer\n",
    "gi.require_version('GstRtspServer', '1.0') # GStreamer rtsp server\n",
    "from gi.repository import GObject, Gst, GstRtspServer, GLib\n",
    "\n",
    "# common library\n",
    "from common.is_aarch_64 import is_aarch64\n",
    "from common.bus_call import bus_call\n",
    "\n",
    "# Python bindings for NVIDIA DeepStream SDK\n",
    "import pyds"
   ]
  },
  {
   "cell_type": "code",
   "execution_count": 2,
   "id": "a91761e7",
   "metadata": {},
   "outputs": [],
   "source": [
    "class color:\n",
    "   PURPLE = '\\033[95m'\n",
    "   CYAN = '\\033[96m'\n",
    "   DARKCYAN = '\\033[36m'\n",
    "   BLUE = '\\033[94m'\n",
    "   GREEN = '\\033[92m'\n",
    "   YELLOW = '\\033[93m'\n",
    "   RED = '\\033[91m'\n",
    "   BOLD = '\\033[1m'\n",
    "   UNDERLINE = '\\033[4m'\n",
    "   END = '\\033[0m'"
   ]
  },
  {
   "cell_type": "markdown",
   "id": "7866435b",
   "metadata": {},
   "source": [
    "## Args"
   ]
  },
  {
   "cell_type": "code",
   "execution_count": null,
   "id": "ec208d21",
   "metadata": {},
   "outputs": [],
   "source": [
    "stream_path = \"../samples/sample_720p.h264\"\n",
    "input_codec = \"h264\"\n",
    "output_codec = \"h264\"\n",
    "bitrate = 4000000\n",
    "port = 8554\n",
    "mount_point = \"stream1\""
   ]
  },
  {
   "cell_type": "markdown",
   "id": "c90101bb",
   "metadata": {},
   "source": [
    "## On Screen Display Function"
   ]
  },
  {
   "cell_type": "code",
   "execution_count": null,
   "id": "ea8764d3",
   "metadata": {},
   "outputs": [],
   "source": [
    "def osd_sink_pad_buffer_probe(pad,info,u_data):\n",
    "    frame_number=0\n",
    "\n",
    "    gst_buffer = info.get_buffer()\n",
    "    if not gst_buffer:\n",
    "        print(\"Unable to get GstBuffer \")\n",
    "        return\n",
    "\n",
    "    # Retrieve batch metadata from the gst_buffer\n",
    "    # Note that pyds.gst_buffer_get_nvds_batch_meta() expects the\n",
    "    # C address of gst_buffer as input, which is obtained with hash(gst_buffer)\n",
    "    batch_meta = pyds.gst_buffer_get_nvds_batch_meta(hash(gst_buffer))\n",
    "    l_frame = batch_meta.frame_meta_list\n",
    "    while l_frame is not None:\n",
    "        try:\n",
    "            # Note that l_frame.data needs a cast to pyds.NvDsFrameMeta\n",
    "            # The casting is done by pyds.NvDsFrameMeta.cast()\n",
    "            # The casting also keeps ownership of the underlying memory\n",
    "            # in the C code, so the Python garbage collector will leave\n",
    "            # it alone.\n",
    "            frame_meta = pyds.NvDsFrameMeta.cast(l_frame.data)\n",
    "        except StopIteration:\n",
    "            break\n",
    "\n",
    "        frame_number=frame_meta.frame_num\n",
    "        # num_rects = frame_meta.num_obj_meta # Number of rectangles ==> Number of objects\n",
    "        # l_obj=frame_meta.obj_meta_list\n",
    "        # while l_obj is not None:\n",
    "        #     try:\n",
    "        #         # Casting l_obj.data to pyds.NvDsObjectMeta\n",
    "        #         obj_meta=pyds.NvDsObjectMeta.cast(l_obj.data)\n",
    "        #     except StopIteration:\n",
    "        #         break\n",
    "        #     obj_counter[obj_meta.class_id] += 1\n",
    "        #     try: \n",
    "        #         l_obj=l_obj.next\n",
    "        #     except StopIteration:\n",
    "        #         break\n",
    "\n",
    "        # Acquiring a display meta object. The memory ownership remains in\n",
    "        # the C code so downstream plugins can still access it. Otherwise\n",
    "        # the garbage collector will claim it when this probe function exits.\n",
    "        display_meta=pyds.nvds_acquire_display_meta_from_pool(batch_meta)\n",
    "        display_meta.num_labels = 1\n",
    "        py_nvosd_text_params = display_meta.text_params[0]\n",
    "        # Setting display text to be shown on screen\n",
    "        # Note that the pyds module allocates a buffer for the string, and the\n",
    "        # memory will not be claimed by the garbage collector.\n",
    "        # Reading the display_text field here will return the C address of the\n",
    "        # allocated string. Use pyds.get_string() to get the string content.\n",
    "        # py_nvosd_text_params.display_text = \"Frame Number={} Number of Objects={} Vehicle_count={} Person_count={}\".format(frame_number, num_rects, obj_counter[PGIE_CLASS_ID_VEHICLE], obj_counter[PGIE_CLASS_ID_PERSON])\n",
    "        py_nvosd_text_params.display_text = f\"Frame Number={frame_number}\"\n",
    "\n",
    "\n",
    "        # Now set the offsets where the string should appear\n",
    "        py_nvosd_text_params.x_offset = 10\n",
    "        py_nvosd_text_params.y_offset = 12\n",
    "\n",
    "        # Font , font-color and font-size\n",
    "        py_nvosd_text_params.font_params.font_name = \"Serif\"\n",
    "        py_nvosd_text_params.font_params.font_size = 20\n",
    "        # set(red, green, blue, alpha); set to White\n",
    "        py_nvosd_text_params.font_params.font_color.set(1.0, 1.0, 1.0, 1.0)\n",
    "\n",
    "        # Text background color\n",
    "        py_nvosd_text_params.set_bg_clr = 1\n",
    "        # set(red, green, blue, alpha); set to Black\n",
    "        py_nvosd_text_params.text_bg_clr.set(0.0, 0.0, 0.0, 0.5)\n",
    "        # Using pyds.get_string() to get display_text as string\n",
    "        # print(pyds.get_string(py_nvosd_text_params.display_text))\n",
    "        pyds.nvds_add_display_meta_to_frame(frame_meta, display_meta)\n",
    "        try:\n",
    "            l_frame=l_frame.next\n",
    "        except StopIteration:\n",
    "            break\n",
    "        \n",
    "    return Gst.PadProbeReturn.OK"
   ]
  }
 ],
 "metadata": {
  "kernelspec": {
   "display_name": "Python 3 (ipykernel)",
   "language": "python",
   "name": "python3"
  },
  "language_info": {
   "codemirror_mode": {
    "name": "ipython",
    "version": 3
   },
   "file_extension": ".py",
   "mimetype": "text/x-python",
   "name": "python",
   "nbconvert_exporter": "python",
   "pygments_lexer": "ipython3",
   "version": "3.8.10"
  }
 },
 "nbformat": 4,
 "nbformat_minor": 5
}
