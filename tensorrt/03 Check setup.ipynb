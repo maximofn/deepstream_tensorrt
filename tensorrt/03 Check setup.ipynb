{
 "cells": [
  {
   "cell_type": "markdown",
   "id": "6fab768f",
   "metadata": {},
   "source": [
    "# Check if it is into container"
   ]
  },
  {
   "cell_type": "code",
   "execution_count": 1,
   "id": "80131618",
   "metadata": {},
   "outputs": [
    {
     "name": "stdout",
     "output_type": "stream",
     "text": [
      "/home/maximo.fernandez@AEROESPACIAL.SENER/Documents/apuntes-Jetson-Nano/tensorrt\n"
     ]
    }
   ],
   "source": [
    "!pwd"
   ]
  },
  {
   "cell_type": "code",
   "execution_count": 2,
   "id": "248ee4a1",
   "metadata": {},
   "outputs": [
    {
     "name": "stdout",
     "output_type": "stream",
     "text": [
      "nvcc: NVIDIA (R) Cuda compiler driver\n",
      "Copyright (c) 2005-2019 NVIDIA Corporation\n",
      "Built on Sun_Jul_28_19:07:16_PDT_2019\n",
      "Cuda compilation tools, release 10.1, V10.1.243\n"
     ]
    }
   ],
   "source": [
    "!nvcc --version"
   ]
  },
  {
   "cell_type": "code",
   "execution_count": 3,
   "id": "0b9c0203",
   "metadata": {},
   "outputs": [
    {
     "name": "stdout",
     "output_type": "stream",
     "text": [
      "Mon Oct 31 12:22:42 2022       \n",
      "+-----------------------------------------------------------------------------+\n",
      "| NVIDIA-SMI 510.39.01    Driver Version: 510.39.01    CUDA Version: 11.6     |\n",
      "|-------------------------------+----------------------+----------------------+\n",
      "| GPU  Name        Persistence-M| Bus-Id        Disp.A | Volatile Uncorr. ECC |\n",
      "| Fan  Temp  Perf  Pwr:Usage/Cap|         Memory-Usage | GPU-Util  Compute M. |\n",
      "|                               |                      |               MIG M. |\n",
      "|===============================+======================+======================|\n",
      "|   0  Quadro T1000        On   | 00000000:01:00.0 Off |                  N/A |\n",
      "| N/A   48C    P8     1W /  N/A |     59MiB /  4096MiB |      0%      Default |\n",
      "|                               |                      |                  N/A |\n",
      "+-------------------------------+----------------------+----------------------+\n",
      "                                                                               \n",
      "+-----------------------------------------------------------------------------+\n",
      "| Processes:                                                                  |\n",
      "|  GPU   GI   CI        PID   Type   Process name                  GPU Memory |\n",
      "|        ID   ID                                                   Usage      |\n",
      "|=============================================================================|\n",
      "|    0   N/A  N/A      1515      G   /usr/lib/xorg/Xorg                  4MiB |\n",
      "|    0   N/A  N/A      2615      G   /usr/lib/xorg/Xorg                  4MiB |\n",
      "|    0   N/A  N/A     21036      C   ...NER/miniconda3/bin/python       47MiB |\n",
      "+-----------------------------------------------------------------------------+\n"
     ]
    }
   ],
   "source": [
    "!nvidia-smi"
   ]
  },
  {
   "cell_type": "markdown",
   "id": "8b7bceb1",
   "metadata": {},
   "source": [
    "# Check if TensorRT is installed"
   ]
  },
  {
   "cell_type": "code",
   "execution_count": 4,
   "id": "7f7c5353",
   "metadata": {},
   "outputs": [
    {
     "name": "stdout",
     "output_type": "stream",
     "text": [
      "ii  libnvinfer-bin                                              8.4.3-1+cuda11.6                    amd64        TensorRT binaries\n",
      "ii  libnvinfer-dev                                              8.4.3-1+cuda11.6                    amd64        TensorRT development libraries and headers\n",
      "ii  libnvinfer-plugin-dev                                       8.4.3-1+cuda11.6                    amd64        TensorRT plugin libraries\n",
      "ii  libnvinfer-plugin8                                          8.4.3-1+cuda11.6                    amd64        TensorRT plugin libraries\n",
      "ii  libnvinfer-samples                                          8.4.3-1+cuda11.6                    all          TensorRT samples\n",
      "ii  libnvinfer8                                                 8.4.3-1+cuda11.6                    amd64        TensorRT runtime libraries\n",
      "ii  libnvonnxparsers-dev                                        8.4.3-1+cuda11.6                    amd64        TensorRT ONNX libraries\n",
      "ii  libnvonnxparsers8                                           8.4.3-1+cuda11.6                    amd64        TensorRT ONNX libraries\n",
      "ii  libnvparsers-dev                                            8.4.3-1+cuda11.6                    amd64        TensorRT parsers libraries\n",
      "ii  libnvparsers8                                               8.4.3-1+cuda11.6                    amd64        TensorRT parsers libraries\n",
      "ii  onnx-graphsurgeon                                           8.4.3-1+cuda11.6                    amd64        ONNX GraphSurgeon for TensorRT package\n",
      "ii  python3-libnvinfer                                          8.4.3-1+cuda11.6                    amd64        Python 3 bindings for TensorRT\n",
      "ii  python3-libnvinfer-dev                                      8.4.3-1+cuda11.6                    amd64        Python 3 development package for TensorRT\n",
      "ii  tensorrt                                                    8.4.3.1-1+cuda11.6                  amd64        Meta package for TensorRT\n"
     ]
    }
   ],
   "source": [
    "!dpkg -l | grep TensorRT"
   ]
  },
  {
   "cell_type": "markdown",
   "id": "dd1be219",
   "metadata": {},
   "source": [
    "# Check if Python libaries are installed"
   ]
  },
  {
   "cell_type": "markdown",
   "id": "984577ee",
   "metadata": {},
   "source": [
    "## Pycuda"
   ]
  },
  {
   "cell_type": "code",
   "execution_count": 6,
   "id": "bff96c48",
   "metadata": {},
   "outputs": [],
   "source": [
    "import pycuda\n",
    "import pycuda.driver as cuda\n",
    "import pycuda.autoinit"
   ]
  },
  {
   "cell_type": "markdown",
   "id": "2d95a349",
   "metadata": {},
   "source": [
    "## ONNX"
   ]
  },
  {
   "cell_type": "code",
   "execution_count": 7,
   "id": "382708ed",
   "metadata": {},
   "outputs": [],
   "source": [
    "import onnx"
   ]
  },
  {
   "cell_type": "markdown",
   "id": "b84cf52d",
   "metadata": {},
   "source": [
    "## Skimage"
   ]
  },
  {
   "cell_type": "code",
   "execution_count": 8,
   "id": "02bf6dff",
   "metadata": {},
   "outputs": [],
   "source": [
    "# import skimage"
   ]
  },
  {
   "cell_type": "markdown",
   "id": "2caa70da",
   "metadata": {},
   "source": [
    "## OpenCV"
   ]
  },
  {
   "cell_type": "code",
   "execution_count": 13,
   "id": "3400fe9d",
   "metadata": {},
   "outputs": [],
   "source": [
    "import cv2"
   ]
  },
  {
   "cell_type": "markdown",
   "id": "2c939263",
   "metadata": {},
   "source": [
    "## Matplotlib"
   ]
  },
  {
   "cell_type": "code",
   "execution_count": 9,
   "id": "b3b1f85f",
   "metadata": {},
   "outputs": [],
   "source": [
    "from matplotlib import pyplot as plt"
   ]
  },
  {
   "cell_type": "markdown",
   "id": "eb3d7c5c",
   "metadata": {},
   "source": [
    "## Numpy"
   ]
  },
  {
   "cell_type": "code",
   "execution_count": 10,
   "id": "aed576c9",
   "metadata": {},
   "outputs": [],
   "source": [
    "import numpy as np"
   ]
  },
  {
   "cell_type": "markdown",
   "id": "bad0254b",
   "metadata": {},
   "source": [
    "## Pytorch"
   ]
  },
  {
   "cell_type": "code",
   "execution_count": 11,
   "id": "d14a7bf2",
   "metadata": {},
   "outputs": [],
   "source": [
    "import torchvision.models as models\n",
    "import torch\n",
    "import torch.onnx"
   ]
  },
  {
   "cell_type": "markdown",
   "id": "a40527b2",
   "metadata": {},
   "source": [
    "## TensorRT"
   ]
  },
  {
   "cell_type": "code",
   "execution_count": 12,
   "id": "d7984eec",
   "metadata": {},
   "outputs": [],
   "source": [
    "import tensorrt as trt"
   ]
  }
 ],
 "metadata": {
  "kernelspec": {
   "display_name": "Python 3.9.13 ('base')",
   "language": "python",
   "name": "python3"
  },
  "language_info": {
   "codemirror_mode": {
    "name": "ipython",
    "version": 3
   },
   "file_extension": ".py",
   "mimetype": "text/x-python",
   "name": "python",
   "nbconvert_exporter": "python",
   "pygments_lexer": "ipython3",
   "version": "3.9.13"
  },
  "vscode": {
   "interpreter": {
    "hash": "b2af3135499c4cc4659220baa8d57d20fd35a58497fd7648737e38d0561042d8"
   }
  }
 },
 "nbformat": 4,
 "nbformat_minor": 5
}
