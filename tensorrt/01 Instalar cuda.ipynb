{
 "cells": [
  {
   "cell_type": "markdown",
   "metadata": {},
   "source": [
    "# Instalar cuda"
   ]
  },
  {
   "cell_type": "markdown",
   "metadata": {},
   "source": [
    " * Borrar todo lo anterior instalado\n",
    "   ``` bash\n",
    "    $ sudo apt remove --purge '^nvidia-.*'\n",
    "    $ sudo apt remove --purge '^libnvidia-.*'\n",
    "    $ sudo apt remove --purge '^cuda-.*'\n",
    "   ```\n",
    " * Limpiar\n",
    "   ``` bash\n",
    "    $ sudo apt install linux-headers-$(uname -r)\n",
    "   ```\n",
    " * Ir a la página de [versiones](https://developer.nvidia.com/cuda-toolkit-archive) de cuda y elegir una, como en mi caso quiero instalar la versión 11.6 elijo `CUDA Toolkit 11.6.0`\n",
    " * Seleccionar el sistema operativo y CPU, en mi caso elijo `Linux`, `x86_64`, `Ubuntu`, `20.04` y `deb (local)`\n",
    " * Introducir los comandos que indican en la página\n",
    " * Reiniciar el ordenador\n",
    " * Comprobar con el comando\n",
    "    ``` bash\n",
    "     $ nvcc --version\n",
    "    ```\n",
    "    O el comando\n",
    "    ``` bash\n",
    "     $ nvidia-smi\n",
    "    ```"
   ]
  }
 ],
 "metadata": {
  "kernelspec": {
   "display_name": "Python 3.8.10 64-bit",
   "language": "python",
   "name": "python3"
  },
  "language_info": {
   "name": "python",
   "version": "3.8.10"
  },
  "orig_nbformat": 4,
  "vscode": {
   "interpreter": {
    "hash": "916dbcbb3f70747c44a77c7bcd40155683ae19c65e1c03b4aa3499c5328201f1"
   }
  }
 },
 "nbformat": 4,
 "nbformat_minor": 2
}
